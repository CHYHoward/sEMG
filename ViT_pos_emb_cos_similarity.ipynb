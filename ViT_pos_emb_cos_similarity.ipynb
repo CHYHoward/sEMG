{
 "cells": [
  {
   "cell_type": "code",
   "execution_count": null,
   "metadata": {},
   "outputs": [],
   "source": [
    "import numpy as np \n",
    "import matplotlib.pyplot as plt\n",
    "\n",
    "# Torch\n",
    "import torch\n",
    "from torch.utils.data.dataset import Dataset\n",
    "from torch.utils.data import WeightedRandomSampler\n",
    "import torch.nn as nn\n",
    "from torch.nn.parameter import Parameter\n",
    "import torch.nn.functional as F\n",
    "from torch.utils.data import DataLoader\n",
    "from torchsummary import summary\n",
    "\n",
    "# Save/Load as mat.\n",
    "from scipy.io import savemat, loadmat\n",
    "import h5py\n",
    "import mat73 # https://github.com/skjerns/mat7.3\n",
    "\n",
    "# Progress Bar\n",
    "from rich.progress import track\n",
    "from rich.progress import Progress\n",
    "\n",
    "# Other\n",
    "import argparse\n",
    "import multiprocessing as mp\n",
    "import os\n",
    "import scipy.signal as signal\n",
    "import time\n",
    "from sklearn.metrics import confusion_matrix\n",
    "import seaborn as sns\n",
    "from plot import *\n",
    "\n",
    "# User-defined\n",
    "from mat2np_segment_all_subject import *\n",
    "from dsp_preprocess import *\n",
    "from dataset_parser import *\n",
    "from models import *\n",
    "from feature_extractor import *\n",
    "from set_args import *\n",
    "from train_test_process import *\n",
    "from vit import *"
   ]
  },
  {
   "cell_type": "code",
   "execution_count": null,
   "metadata": {},
   "outputs": [],
   "source": [
    "pretrain_model_PATH = \"Results/ViT_FNet_20231114_0144/ViT_FNet.pth\"\n",
    "# model = eval(f\"{args.model_type}(window_size, args.num_channel,number_gesture=number_gesture, class_rest=args.class_rest)\").to(device)\n",
    "model = ViT_FNet(400,12)\n",
    "model.load_state_dict(torch.load(pretrain_model_PATH)) # Pretrained model"
   ]
  },
  {
   "cell_type": "markdown",
   "metadata": {},
   "source": [
    "<All keys matched successfully>"
   ]
  },
  {
   "cell_type": "code",
   "execution_count": null,
   "metadata": {},
   "outputs": [],
   "source": [
    "from sklearn.metrics.pairwise import cosine_similarity\n",
    "\n",
    "E_pos = np.squeeze(model.pos_embedding.detach().numpy())\n",
    "E_pos_cos_sim = cosine_similarity(E_pos)\n",
    "\n",
    "# Plot the confusion matrix using seaborn and matplotlib\n",
    "plt.figure(figsize=(18, 18))\n",
    "sns.set(font_scale=0.6)\n",
    "sns.heatmap(E_pos_cos_sim, cbar=False, square=True, xticklabels=True, yticklabels=True)\n",
    "plt.xlabel('i-th patch')\n",
    "plt.ylabel('i-th patch')\n",
    "plt.title('Position embedding similarities')"
   ]
  }
 ],
 "metadata": {
  "language_info": {
   "name": "python"
  }
 },
 "nbformat": 4,
 "nbformat_minor": 2
}
