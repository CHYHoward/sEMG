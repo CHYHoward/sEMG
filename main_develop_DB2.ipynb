{
 "cells": [
  {
   "cell_type": "code",
   "execution_count": 2,
   "metadata": {},
   "outputs": [],
   "source": [
    "import numpy as np \n",
    "import matplotlib.pyplot as plt\n",
    "\n",
    "# Torch\n",
    "import torch\n",
    "from torch.utils.data.dataset import Dataset\n",
    "from torch.utils.data import WeightedRandomSampler\n",
    "import torch.nn as nn\n",
    "from torch.nn.parameter import Parameter\n",
    "import torch.nn.functional as F\n",
    "from torch.utils.data import DataLoader\n",
    "from torchsummary import summary\n",
    "\n",
    "# Save/Load as mat.\n",
    "from scipy.io import savemat, loadmat\n",
    "import h5py\n",
    "import mat73 # https://github.com/skjerns/mat7.3\n",
    "\n",
    "# Progress Bar\n",
    "from rich.progress import track\n",
    "from rich.progress import Progress\n",
    "\n",
    "# Other\n",
    "import argparse\n",
    "import multiprocessing as mp\n",
    "import os\n",
    "import scipy.signal as signal\n",
    "import time\n",
    "\n",
    "# User-defined\n",
    "from mat2np_segment_all_subject import *\n",
    "from dsp_preprocess import *\n",
    "from dataset_parser import *\n",
    "from models import *\n",
    "from feature_extractor import *\n",
    "from set_args import *\n",
    "from train_test_process import *\n",
    "from vit import *"
   ]
  },
  {
   "cell_type": "markdown",
   "metadata": {},
   "source": [
    "### Parameter setup"
   ]
  },
  {
   "cell_type": "code",
   "execution_count": 3,
   "metadata": {},
   "outputs": [
    {
     "name": "stdout",
     "output_type": "stream",
     "text": [
      "\n",
      "======================================================================\n",
      "----------------------------------------------------------------------\n",
      "Database: NinaPro  DB2\n",
      "Number of subjects:  1  -> [1] subject\n",
      "Number of  exercises:  3  -> [1, 2, 3] exercise\n",
      "Number of gestures:  49, and we excludes 'rest' class\n",
      "----------------------------------------------------------------------\n",
      "Sampling rate:  2000  (sps)\n",
      "Number of channels:  12\n",
      "Window size:  400  (samples) =  200.0  (ms)\n",
      "Window step:  200  (samples) =  100.0  (ms)\n",
      "----------------------------------------------------------------------\n",
      "Device:  cuda:0\n",
      "Feature extraction:  False\n",
      "Model type:  ViT\n",
      "Model PATH:  ./Results/Lastest_results/ViT.pth\n",
      "Load model:  True\n",
      "Number of epochs:  20\n",
      "Batch size:  512\n",
      "Learning rate:  0.001\n",
      "----------------------------------------------------------------------\n",
      "======================================================================\n",
      "\n",
      "subject_list = [1]\n",
      "exercise_list = [1, 2, 3]\n",
      "fs = 2000\n",
      "num_channel = 12\n",
      "window_size_sec = 0.2\n",
      "window_step_sec = 0.1\n",
      "type_filter = none\n",
      "type_norm = mvc\n",
      "num_epoch = 20\n",
      "batch_size = 512\n",
      "lr = 0.001\n",
      "database = DB2\n",
      "model_type = ViT\n",
      "en_train = True\n",
      "load_model = True\n",
      "class_rest = False\n",
      "feat_extract = False\n",
      "load_dataset = True\n",
      "save_dataset = False\n",
      "log_name = Lastest_results\n"
     ]
    }
   ],
   "source": [
    "set_seed(87)\n",
    "\n",
    "raw_args = [\n",
    "    '--subject_list=1',\n",
    "    # '--exercise_list=1,2,3',\n",
    "    '--window_size_sec=0.2',\n",
    "    '--window_step_sec=0.1',\n",
    "    # '--type_filter=BPF_20_200'\n",
    "    # '--type_norm=mvc'\n",
    "    '--num_epoch=20',\n",
    "    '--batch_size=512',\n",
    "    '--model_type=ViT',\n",
    "    '--lr=0.001',\n",
    "    '--en_train',\n",
    "    '--load_dataset'\n",
    "    # '--save_dataset'\n",
    "]\n",
    "\n",
    "args = get_args(raw_args)\n",
    "window_size, window_step, number_gesture, model_PATH, device = get_args_info(args)\n",
    "\n",
    "for key, value in vars(args).items():\n",
    "    print(f\"{key} = {value}\")\n",
    "    exec(\"{} = args.{}\".format(key,key))\n",
    "    \n",
    "\n"
   ]
  },
  {
   "cell_type": "markdown",
   "metadata": {},
   "source": [
    "### Dataset setup"
   ]
  },
  {
   "cell_type": "code",
   "execution_count": 172,
   "metadata": {},
   "outputs": [
    {
     "name": "stdout",
     "output_type": "stream",
     "text": [
      "\n",
      "----------------------------------------------------------------------\n",
      "Loading saved train dataset in ./Dataset/DB2/\n",
      "Loading saved valid dataset in ./Dataset/DB2/\n",
      "Loading saved test dataset in ./Dataset/DB2/\n",
      "----------------------------------------------------------------------\n",
      "Number of train data: 254869\n",
      "Number of valid data: 81360\n",
      "Number of test  data: 167941\n",
      "----------------------------------------------------------------------\n",
      "\n"
     ]
    }
   ],
   "source": [
    "train_loader, valid_loader, test_loader = train_test_split_DataLoader(\\\n",
    "                                            batch_size=batch_size, \\\n",
    "                                            subject_list=subject_list, \\\n",
    "                                            exercise_list=exercise_list, \\\n",
    "                                            fs=fs, \\\n",
    "                                            window_size=window_size, \\\n",
    "                                            window_step=window_step, \\\n",
    "                                            num_channel=num_channel, \\\n",
    "                                            feat_extract=feat_extract, \\\n",
    "                                            class_rest=class_rest, \\\n",
    "                                            load_dataset = load_dataset, \\\n",
    "                                            save_dataset = save_dataset\n",
    "                                        )"
   ]
  },
  {
   "cell_type": "code",
   "execution_count": 173,
   "metadata": {},
   "outputs": [],
   "source": [
    "def train_process(args,model,model_PATH,train_loader,valid_loader,device,optimizer,criterion):\n",
    "    # Print the model summary\n",
    "    summary(model, (train_loader.dataset[0][0].shape))\n",
    "    \n",
    "    # model.load_state_dict(torch.load(model_PATH)) # Pretrained model\n",
    "\n",
    "    t_start = time.time()\n",
    "    # with Progress(console=Console(file=sys.stderr)) as progress:\n",
    "    #with Progress() as progress:\n",
    "    # task1 = progress.add_task(\"[cyan]Epoch: \", total=args.num_epoch)\n",
    "\n",
    "    loss_best = float(\"inf\")\n",
    "    not_better_count = 0    \n",
    "    # print('', end='', flush=True)\n",
    "    for epoch in range(args.num_epoch):\n",
    "        end_type = '\\n' if epoch==args.num_epoch-1 else '\\r'\n",
    "        # end_type = '\\n'\n",
    "        \n",
    "        # Training Stage\n",
    "        model.train() # Make sure the model is in train mode before training.\n",
    "        # task2 = progress.add_task(\"[green][Train: ]\", total=len(train_loader))\n",
    "        running_loss_train = 0.0\n",
    "        running_acc_train = 0.0\n",
    "        n_train = 0\n",
    "        for i, (emg_sample, gesture_gold) in enumerate(train_loader):\n",
    "            emg_sample = emg_sample.to(device) # input\n",
    "            gesture_gold = gesture_gold.to(device) # Output\n",
    "\n",
    "            if args.model_type == \"ViT\":\n",
    "                # emg_sample = torch.unsqueeze(emg_sample.permute(0,2,1), dim=3)  # shape: (B, C, W, F) = (128, 12, 400, 1)\n",
    "                emg_sample = emg_sample.permute(0,2,1)  # shape: (B, C, 1*W*F) \n",
    "\n",
    "            gesture_pred = model(emg_sample)\n",
    "            \n",
    "            optimizer.zero_grad()\n",
    "            loss = criterion(gesture_pred,gesture_gold)\n",
    "            loss.backward()\n",
    "            optimizer.step()\n",
    "\n",
    "            running_loss_train += loss.detach().item()*emg_sample.shape[0]\n",
    "            num_correct = (torch.argmax(gesture_pred, dim=1)==gesture_gold).sum()\n",
    "            running_acc_train += num_correct\n",
    "            n_train += emg_sample.shape[0]\n",
    "            # progress.update(task2, advance=1,description=\"[green][Train: %3d] [Train loss: %3.3f] [Train acc: %3.2f %%]: \" % (i+1,running_loss_train/n_train, 100*running_acc_train/n_train))\n",
    "            \n",
    "        # print(\"[Train: %3d] [Train loss: %3.3f] [Train acc: %3.2f %%]: \" % (i+1,running_loss_train/n_train, 100*running_acc_train/n_train), end=end_type)\n",
    "        # progress.remove_task(task2)\n",
    "\n",
    "        # Validation Stage\n",
    "        model.eval() # Make sure the model is in eval mode so that some modules like dropout are disabled and work normally.\n",
    "        # task3 = progress.add_task(\"[red]Validate \", total=len(valid_loader))\n",
    "        running_loss_valid = 0.0\n",
    "        running_acc_valid = 0.0\n",
    "        n_valid = 0\n",
    "        with torch.no_grad():\n",
    "            for i, (emg_sample, gesture_gold) in enumerate(valid_loader):\n",
    "                emg_sample = emg_sample.to(device) # input\n",
    "\n",
    "                if args.model_type == \"ViT\":\n",
    "                    # emg_sample = torch.unsqueeze(emg_sample.permute(0,2,1), dim=3)  # shape: (B, C, W, F) = (128, 12, 400, 1)\n",
    "                    emg_sample = emg_sample.permute(0,2,1)  # shape: (B, C, 1*W*F)\n",
    "\n",
    "                gesture_gold = gesture_gold.to(device) # Output\n",
    "                gesture_pred = model(emg_sample)\n",
    "\n",
    "                loss = criterion(gesture_pred,gesture_gold)\n",
    "\n",
    "                running_loss_valid += loss.detach().item()*emg_sample.shape[0]\n",
    "                num_correct = (torch.argmax(gesture_pred, dim=1)==gesture_gold).sum() # torch.mean((torch.argmax(gesture_pred, dim=1) == labels).float()\n",
    "                \n",
    "\n",
    "                running_acc_valid += num_correct\n",
    "                n_valid += emg_sample.shape[0]\n",
    "                # progress.update(task3, advance=1,description=\"[red][Validate: %3d] [Valid loss: %3.3f] [Valid acc: %3.2f %%]: \" % (i+1, running_loss_valid/n_valid, 100*running_acc_valid/n_valid))\n",
    "            # print(\"[Valid: %3d] [Valid loss: %3.3f] [Valid acc: %3.2f %%]: \" % (i+1, running_loss_valid/n_valid, 100*running_acc_valid/n_valid),  end=end_type)\n",
    "        # progress.remove_task(task3)\n",
    "        \n",
    "        # Finishing a epoch\n",
    "        # progress.update(task1, advance=1,description=\"[cyan][Epoch: %3d] [Train loss: %3.3f acc: %3.2f %%] [Valid loss: %3.3f acc: %3.2f %%]\" \n",
    "        #                 %(epoch+1, running_loss_train/n_train, 100*running_acc_train/n_train, running_loss_valid/n_valid, 100*running_acc_valid/n_valid))\n",
    "        print(\"[Epoch: %3d / %d] [Train loss: %3.3f acc: %4.2f] [Valid loss: %3.3f acc: %4.2f]\" \n",
    "                        %(epoch+1, args.num_epoch, running_loss_train/n_train, 100*running_acc_train/n_train, running_loss_valid/n_valid, 100*running_acc_valid/n_valid),  end=end_type, flush=True)\n",
    "\n",
    "        print(model.layers[10].weight)\n",
    "        \n",
    "        # Save model or not \n",
    "        if running_loss_valid < loss_best:\n",
    "            loss_best = running_loss_valid\n",
    "            # print(\"New best loss in valid => Saving the model @ %s\", PATH)\n",
    "            torch.save(model.state_dict(), model_PATH)\n",
    "            not_better_count = 0\n",
    "        else:\n",
    "            not_better_count = not_better_count+1\n",
    "        if not_better_count > 10 and epoch>30:\n",
    "            break\n",
    "    \n",
    "    t_end = time.time()\n",
    "    print(\"Elasped training time: \", t_end - t_start)  "
   ]
  },
  {
   "cell_type": "code",
   "execution_count": 174,
   "metadata": {},
   "outputs": [
    {
     "ename": "RuntimeError",
     "evalue": "Failed to run torchsummary. See above stack traces for more details. Executed layers up to: []",
     "output_type": "error",
     "traceback": [
      "\u001b[0;31m---------------------------------------------------------------------------\u001b[0m",
      "\u001b[0;31mRuntimeError\u001b[0m                              Traceback (most recent call last)",
      "File \u001b[0;32m~/.local/lib/python3.10/site-packages/torchsummary/torchsummary.py:140\u001b[0m, in \u001b[0;36msummary\u001b[0;34m(model, input_data, batch_dim, branching, col_names, col_width, depth, device, dtypes, verbose, *args, **kwargs)\u001b[0m\n\u001b[1;32m    139\u001b[0m     \u001b[39mwith\u001b[39;00m torch\u001b[39m.\u001b[39mno_grad():\n\u001b[0;32m--> 140\u001b[0m         _ \u001b[39m=\u001b[39m model\u001b[39m.\u001b[39;49mto(device)(\u001b[39m*\u001b[39;49mx, \u001b[39m*\u001b[39;49margs, \u001b[39m*\u001b[39;49m\u001b[39m*\u001b[39;49mkwargs)  \u001b[39m# type: ignore[misc]\u001b[39;00m\n\u001b[1;32m    141\u001b[0m \u001b[39mexcept\u001b[39;00m \u001b[39mException\u001b[39;00m \u001b[39mas\u001b[39;00m e:\n",
      "File \u001b[0;32m~/.local/lib/python3.10/site-packages/torch/nn/modules/module.py:1501\u001b[0m, in \u001b[0;36mModule._call_impl\u001b[0;34m(self, *args, **kwargs)\u001b[0m\n\u001b[1;32m   1498\u001b[0m \u001b[39mif\u001b[39;00m \u001b[39mnot\u001b[39;00m (\u001b[39mself\u001b[39m\u001b[39m.\u001b[39m_backward_hooks \u001b[39mor\u001b[39;00m \u001b[39mself\u001b[39m\u001b[39m.\u001b[39m_backward_pre_hooks \u001b[39mor\u001b[39;00m \u001b[39mself\u001b[39m\u001b[39m.\u001b[39m_forward_hooks \u001b[39mor\u001b[39;00m \u001b[39mself\u001b[39m\u001b[39m.\u001b[39m_forward_pre_hooks\n\u001b[1;32m   1499\u001b[0m         \u001b[39mor\u001b[39;00m _global_backward_pre_hooks \u001b[39mor\u001b[39;00m _global_backward_hooks\n\u001b[1;32m   1500\u001b[0m         \u001b[39mor\u001b[39;00m _global_forward_hooks \u001b[39mor\u001b[39;00m _global_forward_pre_hooks):\n\u001b[0;32m-> 1501\u001b[0m     \u001b[39mreturn\u001b[39;00m forward_call(\u001b[39m*\u001b[39;49margs, \u001b[39m*\u001b[39;49m\u001b[39m*\u001b[39;49mkwargs)\n\u001b[1;32m   1502\u001b[0m \u001b[39m# Do not call functions when jit is used\u001b[39;00m\n",
      "File \u001b[0;32m/home/remote/@LH-ACCESS.EE.NTU.EDU.TW/61/d09_ciwade870307-1000008/EMG_HGR/vit.py:108\u001b[0m, in \u001b[0;36mViT.forward\u001b[0;34m(self, x)\u001b[0m\n\u001b[1;32m    106\u001b[0m \u001b[39mdef\u001b[39;00m \u001b[39mforward\u001b[39m(\u001b[39mself\u001b[39m, x):\n\u001b[0;32m--> 108\u001b[0m     x \u001b[39m=\u001b[39m \u001b[39mself\u001b[39;49m\u001b[39m.\u001b[39;49mto_patch_embedding(x)\n\u001b[1;32m    109\u001b[0m     batch_size, num_patch, _ \u001b[39m=\u001b[39m x\u001b[39m.\u001b[39mshape\n",
      "File \u001b[0;32m~/.local/lib/python3.10/site-packages/torch/nn/modules/module.py:1538\u001b[0m, in \u001b[0;36mModule._call_impl\u001b[0;34m(self, *args, **kwargs)\u001b[0m\n\u001b[1;32m   1536\u001b[0m     args \u001b[39m=\u001b[39m bw_hook\u001b[39m.\u001b[39msetup_input_hook(args)\n\u001b[0;32m-> 1538\u001b[0m result \u001b[39m=\u001b[39m forward_call(\u001b[39m*\u001b[39;49margs, \u001b[39m*\u001b[39;49m\u001b[39m*\u001b[39;49mkwargs)\n\u001b[1;32m   1539\u001b[0m \u001b[39mif\u001b[39;00m _global_forward_hooks \u001b[39mor\u001b[39;00m \u001b[39mself\u001b[39m\u001b[39m.\u001b[39m_forward_hooks:\n",
      "File \u001b[0;32m~/.local/lib/python3.10/site-packages/torch/nn/modules/linear.py:114\u001b[0m, in \u001b[0;36mLinear.forward\u001b[0;34m(self, input)\u001b[0m\n\u001b[1;32m    113\u001b[0m \u001b[39mdef\u001b[39;00m \u001b[39mforward\u001b[39m(\u001b[39mself\u001b[39m, \u001b[39minput\u001b[39m: Tensor) \u001b[39m-\u001b[39m\u001b[39m>\u001b[39m Tensor:\n\u001b[0;32m--> 114\u001b[0m     \u001b[39mreturn\u001b[39;00m F\u001b[39m.\u001b[39;49mlinear(\u001b[39minput\u001b[39;49m, \u001b[39mself\u001b[39;49m\u001b[39m.\u001b[39;49mweight, \u001b[39mself\u001b[39;49m\u001b[39m.\u001b[39;49mbias)\n",
      "\u001b[0;31mRuntimeError\u001b[0m: mat1 and mat2 shapes cannot be multiplied (800x12 and 400x32)",
      "\nThe above exception was the direct cause of the following exception:\n",
      "\u001b[0;31mRuntimeError\u001b[0m                              Traceback (most recent call last)",
      "\u001b[1;32m/home/remote/LDAP/d09_ciwade870307-1000008/EMG_HGR/main_develop_DB2.ipynb Cell 7\u001b[0m line \u001b[0;36m1\n\u001b[1;32m     <a href='vscode-notebook-cell://ssh-remote%2B140.112.20.131/home/remote/LDAP/d09_ciwade870307-1000008/EMG_HGR/main_develop_DB2.ipynb#X22sdnNjb2RlLXJlbW90ZQ%3D%3D?line=11'>12</a>\u001b[0m \u001b[39m# Model Training and Validation\u001b[39;00m\n\u001b[1;32m     <a href='vscode-notebook-cell://ssh-remote%2B140.112.20.131/home/remote/LDAP/d09_ciwade870307-1000008/EMG_HGR/main_develop_DB2.ipynb#X22sdnNjb2RlLXJlbW90ZQ%3D%3D?line=12'>13</a>\u001b[0m \u001b[39mif\u001b[39;00m args\u001b[39m.\u001b[39men_train:\n\u001b[0;32m---> <a href='vscode-notebook-cell://ssh-remote%2B140.112.20.131/home/remote/LDAP/d09_ciwade870307-1000008/EMG_HGR/main_develop_DB2.ipynb#X22sdnNjb2RlLXJlbW90ZQ%3D%3D?line=13'>14</a>\u001b[0m     train_process(args,model,model_PATH,train_loader,valid_loader,device,optimizer,criterion)\n",
      "\u001b[1;32m/home/remote/LDAP/d09_ciwade870307-1000008/EMG_HGR/main_develop_DB2.ipynb Cell 7\u001b[0m line \u001b[0;36m3\n\u001b[1;32m      <a href='vscode-notebook-cell://ssh-remote%2B140.112.20.131/home/remote/LDAP/d09_ciwade870307-1000008/EMG_HGR/main_develop_DB2.ipynb#X22sdnNjb2RlLXJlbW90ZQ%3D%3D?line=0'>1</a>\u001b[0m \u001b[39mdef\u001b[39;00m \u001b[39mtrain_process\u001b[39m(args,model,model_PATH,train_loader,valid_loader,device,optimizer,criterion):\n\u001b[1;32m      <a href='vscode-notebook-cell://ssh-remote%2B140.112.20.131/home/remote/LDAP/d09_ciwade870307-1000008/EMG_HGR/main_develop_DB2.ipynb#X22sdnNjb2RlLXJlbW90ZQ%3D%3D?line=1'>2</a>\u001b[0m     \u001b[39m# Print the model summary\u001b[39;00m\n\u001b[0;32m----> <a href='vscode-notebook-cell://ssh-remote%2B140.112.20.131/home/remote/LDAP/d09_ciwade870307-1000008/EMG_HGR/main_develop_DB2.ipynb#X22sdnNjb2RlLXJlbW90ZQ%3D%3D?line=2'>3</a>\u001b[0m     summary(model, (train_loader\u001b[39m.\u001b[39;49mdataset[\u001b[39m0\u001b[39;49m][\u001b[39m0\u001b[39;49m]\u001b[39m.\u001b[39;49mshape))\n\u001b[1;32m      <a href='vscode-notebook-cell://ssh-remote%2B140.112.20.131/home/remote/LDAP/d09_ciwade870307-1000008/EMG_HGR/main_develop_DB2.ipynb#X22sdnNjb2RlLXJlbW90ZQ%3D%3D?line=4'>5</a>\u001b[0m     \u001b[39m# model.load_state_dict(torch.load(model_PATH)) # Pretrained model\u001b[39;00m\n\u001b[1;32m      <a href='vscode-notebook-cell://ssh-remote%2B140.112.20.131/home/remote/LDAP/d09_ciwade870307-1000008/EMG_HGR/main_develop_DB2.ipynb#X22sdnNjb2RlLXJlbW90ZQ%3D%3D?line=6'>7</a>\u001b[0m     t_start \u001b[39m=\u001b[39m time\u001b[39m.\u001b[39mtime()\n",
      "File \u001b[0;32m~/.local/lib/python3.10/site-packages/torchsummary/torchsummary.py:143\u001b[0m, in \u001b[0;36msummary\u001b[0;34m(model, input_data, batch_dim, branching, col_names, col_width, depth, device, dtypes, verbose, *args, **kwargs)\u001b[0m\n\u001b[1;32m    141\u001b[0m \u001b[39mexcept\u001b[39;00m \u001b[39mException\u001b[39;00m \u001b[39mas\u001b[39;00m e:\n\u001b[1;32m    142\u001b[0m     executed_layers \u001b[39m=\u001b[39m [layer \u001b[39mfor\u001b[39;00m layer \u001b[39min\u001b[39;00m summary_list \u001b[39mif\u001b[39;00m layer\u001b[39m.\u001b[39mexecuted]\n\u001b[0;32m--> 143\u001b[0m     \u001b[39mraise\u001b[39;00m \u001b[39mRuntimeError\u001b[39;00m(\n\u001b[1;32m    144\u001b[0m         \u001b[39m\"\u001b[39m\u001b[39mFailed to run torchsummary. See above stack traces for more details. \u001b[39m\u001b[39m\"\u001b[39m\n\u001b[1;32m    145\u001b[0m         \u001b[39m\"\u001b[39m\u001b[39mExecuted layers up to: \u001b[39m\u001b[39m{}\u001b[39;00m\u001b[39m\"\u001b[39m\u001b[39m.\u001b[39mformat(executed_layers)\n\u001b[1;32m    146\u001b[0m     ) \u001b[39mfrom\u001b[39;00m \u001b[39me\u001b[39;00m\n\u001b[1;32m    147\u001b[0m \u001b[39mfinally\u001b[39;00m:\n\u001b[1;32m    148\u001b[0m     \u001b[39mif\u001b[39;00m hooks \u001b[39mis\u001b[39;00m \u001b[39mnot\u001b[39;00m \u001b[39mNone\u001b[39;00m:\n",
      "\u001b[0;31mRuntimeError\u001b[0m: Failed to run torchsummary. See above stack traces for more details. Executed layers up to: []"
     ]
    }
   ],
   "source": [
    "# Training Setup\n",
    "if args.model_type == \"ViT\":\n",
    "    # TNet\n",
    "    num_patch = args.num_channel\n",
    "    patch_size = window_size\n",
    "    model = ViT(num_patch,patch_size).to(device)\n",
    "else:\n",
    "    model = eval(f\"{args.model_type}(number_gesture=number_gesture, class_rest=args.class_rest)\").to(device)\n",
    "optimizer = torch.optim.Adam(model.parameters(), lr=0.001, weight_decay=0.00) \n",
    "criterion = nn.CrossEntropyLoss()\n",
    "\n",
    "# Model Training and Validation\n",
    "if args.en_train:\n",
    "    train_process(args,model,model_PATH,train_loader,valid_loader,device,optimizer,criterion)"
   ]
  },
  {
   "cell_type": "code",
   "execution_count": null,
   "metadata": {},
   "outputs": [],
   "source": [
    "def test_process(model,model_PATH,test_loader,device,criterion,load_model,model_type):\n",
    "    if load_model == True:\n",
    "        print(\"Loading the trained model on th path of: \",model_PATH)\n",
    "        model.load_state_dict(torch.load(model_PATH))\n",
    "        \n",
    "\n",
    "    # with Progress() as progress:\n",
    "    # Testing Stage\n",
    "    model.eval() # Make sure the model is in eval mode so that some modules like dropout are disabled and work normally.\n",
    "    # task4 = progress.add_task(\"[blue]Batch \", total=len(test_loader))\n",
    "    running_loss_test = 0.0\n",
    "    running_acc_test = 0.0\n",
    "    n_test = 0\n",
    "\n",
    "    y_pred = []\n",
    "    y_gold = []\n",
    "\n",
    "    with torch.no_grad():\n",
    "        for i, (emg_sample, gesture_gold) in enumerate(test_loader):\n",
    "            emg_sample = emg_sample.to(device) # input\n",
    "            gesture_gold = gesture_gold.to(device) # Output\n",
    "\n",
    "            if model_type == \"ViT\":\n",
    "                # emg_sample = torch.unsqueeze(emg_sample.permute(0,2,1), dim=3)  # shape: (B, C, W, F) = (128, 12, 400, 1)\n",
    "                emg_sample = emg_sample.permute(0,2,1)  # shape: (B, C, 1*W*F)\n",
    "            gesture_pred = model(emg_sample)\n",
    "\n",
    "            y_pred.extend(gesture_pred.argmax(dim=-1).view(-1).detach().cpu().numpy())       # 將preds預測結果detach出來，並轉成numpy格式       \n",
    "            y_gold.extend(gesture_gold.view(-1).detach().cpu().numpy())      # target是ground-truth的labe\n",
    "            \n",
    "            loss = criterion(gesture_pred,gesture_gold)\n",
    "\n",
    "            running_loss_test += loss.detach().item()*emg_sample.shape[0]\n",
    "            num_correct = (torch.argmax(gesture_pred, dim=1)==gesture_gold).sum()\n",
    "            running_acc_test += num_correct\n",
    "            n_test += emg_sample.shape[0]\n",
    "\n",
    "            # progress.update(task4, advance=1,description=\"[blue][Test loss: %3.3f] [Test acc: %3.2f %%]: \" % (running_loss_test/n_test, 100*running_acc_test/n_test))\n",
    "        print(\"[Test loss: %3.3f] [Test acc: %3.2f %%] \" % (running_loss_test/n_test, 100*running_acc_test/n_test), flush=True)\n",
    "\n",
    "    # Print the model summary\n",
    "    # summary(model, (emg_sample.shape[1:]))\n",
    "\n",
    "    return np.array(y_pred), np.array(y_gold) # (num_test,)"
   ]
  },
  {
   "cell_type": "code",
   "execution_count": null,
   "metadata": {},
   "outputs": [
    {
     "name": "stdout",
     "output_type": "stream",
     "text": [
      "Loading the trained model on th path of:  ./Models/CNN_model.pth\n"
     ]
    },
    {
     "name": "stdout",
     "output_type": "stream",
     "text": [
      "[Test loss: 2.486] [Test acc: 32.23 %] \n"
     ]
    }
   ],
   "source": [
    "# Model Testing\n",
    "y_pred, y_gold = test_process(model,model_PATH,test_loader,device,criterion,args.load_model,args.model_type)"
   ]
  },
  {
   "cell_type": "code",
   "execution_count": null,
   "metadata": {},
   "outputs": [],
   "source": [
    "# emg_sample, gesture_gold = valid_loader.dataset[0:1000]\n",
    "# gesture_gold"
   ]
  },
  {
   "cell_type": "code",
   "execution_count": null,
   "metadata": {},
   "outputs": [],
   "source": [
    "# PATH_seg_np = \"Dataset/DB2/DB2_np/DB2_s_1/exercise_1/trial_1/\"\n",
    "# fileNames = [PATH_seg_np+i for i in os.listdir(PATH_seg_np)]\n",
    "# for fileName in fileNames:\n",
    "#     print(fileName)\n",
    "#     emg_sample_filter_norm_seg_batch, gesture_label_batch = dataset_filter_normalize_segementation(fileName)"
   ]
  },
  {
   "cell_type": "code",
   "execution_count": null,
   "metadata": {},
   "outputs": [
    {
     "name": "stdout",
     "output_type": "stream",
     "text": [
      "Sequential(\n",
      "  (0): Conv2d(1, 64, kernel_size=(3, 3), stride=(1, 1), padding=same)\n",
      "  (1): ReLU()\n",
      "  (2): MaxPool2d(kernel_size=(4, 1), stride=(4, 1), padding=0, dilation=1, ceil_mode=False)\n",
      "  (3): Conv2d(64, 64, kernel_size=(3, 3), stride=(1, 1), padding=same)\n",
      "  (4): ReLU()\n",
      "  (5): MaxPool2d(kernel_size=(4, 1), stride=(4, 1), padding=0, dilation=1, ceil_mode=False)\n",
      "  (6): Conv2d(64, 8, kernel_size=(3, 3), stride=(1, 1), padding=same)\n",
      "  (7): ReLU()\n",
      "  (8): MaxPool2d(kernel_size=(2, 2), stride=(2, 2), padding=0, dilation=1, ceil_mode=False)\n",
      "  (9): Flatten(start_dim=1, end_dim=-1)\n",
      "  (10): Linear(in_features=576, out_features=49, bias=True)\n",
      ")\n",
      "Parameter containing:\n",
      "tensor([[-0.0404, -0.0249,  0.0367,  ...,  0.0387,  0.0014,  0.0178],\n",
      "        [-0.0411,  0.0054,  0.0306,  ..., -0.0009,  0.0060, -0.0046],\n",
      "        [-0.0180,  0.0207,  0.0178,  ..., -0.0257,  0.0403, -0.0019],\n",
      "        ...,\n",
      "        [-0.0348,  0.0352, -0.0037,  ...,  0.0294,  0.0153,  0.0311],\n",
      "        [-0.0153,  0.0129,  0.0322,  ..., -0.0247,  0.0204,  0.0350],\n",
      "        [-0.0020, -0.0388,  0.0375,  ..., -0.0233, -0.0280, -0.0178]],\n",
      "       device='cuda:0', requires_grad=True)\n"
     ]
    }
   ],
   "source": [
    "model = eval(f\"{args.model_type}(number_gesture=number_gesture, class_rest=args.class_rest)\").to(device)\n",
    "# model.load_state_dict(torch.load(model_PATH))\n",
    "print(model.layers)\n",
    "print(model.layers[10].weight)"
   ]
  },
  {
   "cell_type": "code",
   "execution_count": null,
   "metadata": {},
   "outputs": [
    {
     "ename": "ZeroDivisionError",
     "evalue": "float division by zero",
     "output_type": "error",
     "traceback": [
      "\u001b[0;31m---------------------------------------------------------------------------\u001b[0m",
      "\u001b[0;31mZeroDivisionError\u001b[0m                         Traceback (most recent call last)",
      "\u001b[1;32m/home/remote/LDAP/d09_ciwade870307-1000008/EMG_HGR/main_develop_DB2.ipynb Cell 14\u001b[0m line \u001b[0;36m3\n\u001b[1;32m     <a href='vscode-notebook-cell://ssh-remote%2B140.112.20.131/home/remote/LDAP/d09_ciwade870307-1000008/EMG_HGR/main_develop_DB2.ipynb#X36sdnNjb2RlLXJlbW90ZQ%3D%3D?line=31'>32</a>\u001b[0m n_test \u001b[39m+\u001b[39m\u001b[39m=\u001b[39m emg_sample\u001b[39m.\u001b[39mshape[\u001b[39m0\u001b[39m]\n\u001b[1;32m     <a href='vscode-notebook-cell://ssh-remote%2B140.112.20.131/home/remote/LDAP/d09_ciwade870307-1000008/EMG_HGR/main_develop_DB2.ipynb#X36sdnNjb2RlLXJlbW90ZQ%3D%3D?line=33'>34</a>\u001b[0m     \u001b[39m# progress.update(task4, advance=1,description=\"[blue][Test loss: %3.3f] [Test acc: %3.2f %%]: \" % (running_loss_test/n_test, 100*running_acc_test/n_test))\u001b[39;00m\n\u001b[0;32m---> <a href='vscode-notebook-cell://ssh-remote%2B140.112.20.131/home/remote/LDAP/d09_ciwade870307-1000008/EMG_HGR/main_develop_DB2.ipynb#X36sdnNjb2RlLXJlbW90ZQ%3D%3D?line=34'>35</a>\u001b[0m \u001b[39mprint\u001b[39m(\u001b[39m\"\u001b[39m\u001b[39m[Test loss: \u001b[39m\u001b[39m%3.3f\u001b[39;00m\u001b[39m] [Test acc: \u001b[39m\u001b[39m%3.2f\u001b[39;00m\u001b[39m \u001b[39m\u001b[39m%%\u001b[39;00m\u001b[39m] \u001b[39m\u001b[39m\"\u001b[39m \u001b[39m%\u001b[39m (running_loss_test\u001b[39m/\u001b[39;49mn_test, \u001b[39m100\u001b[39m\u001b[39m*\u001b[39mrunning_acc_test\u001b[39m/\u001b[39mn_test), flush\u001b[39m=\u001b[39m\u001b[39mTrue\u001b[39;00m)\n",
      "\u001b[0;31mZeroDivisionError\u001b[0m: float division by zero"
     ]
    }
   ],
   "source": [
    "model.eval() # Make sure the model is in eval mode so that some modules like dropout are disabled and work normally.\n",
    "# task4 = progress.add_task(\"[blue]Batch \", total=len(test_loader))\n",
    "running_loss_test = 0.0\n",
    "running_acc_test = 0.0\n",
    "n_test = 0\n",
    "\n",
    "y_pred = []\n",
    "y_gold = []\n",
    "\n",
    "with torch.no_grad():\n",
    "    emg_sample, gesture_gold = test_loader.dataset[8000:9000]\n",
    "    emg_sample = emg_sample.to(device) # input\n",
    "    gesture_gold = gesture_gold.to(device) # Output\n",
    "    # print(emg_sample)\n",
    "    \n",
    "    # print(gesture_gold)\n",
    "\n",
    "    if model_type == \"ViT\":\n",
    "        # emg_sample = torch.unsqueeze(emg_sample.permute(0,2,1), dim=3)  # shape: (B, C, W, F) = (128, 12, 400, 1)\n",
    "        emg_sample = emg_sample.permute(0,2,1)  # shape: (B, C, 1*W*F)\n",
    "    gesture_pred = model(emg_sample)\n",
    "    # print(gesture_pred)\n",
    "\n",
    "    y_pred.extend(gesture_pred.argmax(dim=-1).view(-1).detach().cpu().numpy())       # 將preds預測結果detach出來，並轉成numpy格式       \n",
    "    y_gold.extend(gesture_gold.view(-1).detach().cpu().numpy())      # target是ground-truth的labe\n",
    "    \n",
    "    loss = criterion(gesture_pred,gesture_gold)\n",
    "\n",
    "    running_loss_test += loss.detach().item()*emg_sample.shape[0]\n",
    "    num_correct = (torch.argmax(gesture_pred, dim=1)==gesture_gold).sum()\n",
    "    running_acc_test += num_correct\n",
    "    n_test += emg_sample.shape[0]\n",
    "\n",
    "        # progress.update(task4, advance=1,description=\"[blue][Test loss: %3.3f] [Test acc: %3.2f %%]: \" % (running_loss_test/n_test, 100*running_acc_test/n_test))\n",
    "    print(\"[Test loss: %3.3f] [Test acc: %3.2f %%] \" % (running_loss_test/n_test, 100*running_acc_test/n_test), flush=True)"
   ]
  },
  {
   "cell_type": "code",
   "execution_count": null,
   "metadata": {},
   "outputs": [
    {
     "data": {
      "text/plain": [
       "Text(0.5, 1.0, 'Confusion Matrix')"
      ]
     },
     "execution_count": 146,
     "metadata": {},
     "output_type": "execute_result"
    },
    {
     "data": {
      "image/png": "[encoded data removed]",
      "text/plain": [
       "<Figure size 600x600 with 1 Axes>"
      ]
     },
     "metadata": {},
     "output_type": "display_data"
    }
   ],
   "source": [
    "from sklearn.metrics import confusion_matrix\n",
    "import seaborn as sns\n",
    "\n",
    "# Calculate the confusion matrix\n",
    "cm = confusion_matrix(y_gold, y_pred)\n",
    "\n",
    "# Plot the confusion matrix using seaborn and matplotlib\n",
    "plt.figure(figsize=(6, 6))\n",
    "sns.set(font_scale=0.6)\n",
    "sns.heatmap(cm, annot=False, fmt='d', cbar=False, square=True, xticklabels=True, yticklabels=True)\n",
    "plt.xlabel('Predicted')\n",
    "plt.ylabel('Actual')\n",
    "plt.title('Confusion Matrix')"
   ]
  }
 ],
 "metadata": {
  "kernelspec": {
   "display_name": "base",
   "language": "python",
   "name": "python3"
  },
  "language_info": {
   "codemirror_mode": {
    "name": "ipython",
    "version": 3
   },
   "file_extension": ".py",
   "mimetype": "text/x-python",
   "name": "python",
   "nbconvert_exporter": "python",
   "pygments_lexer": "ipython3",
   "version": "3.10.9"
  }
 },
 "nbformat": 4,
 "nbformat_minor": 2
}
